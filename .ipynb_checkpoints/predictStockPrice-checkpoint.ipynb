{
 "cells": [
  {
   "cell_type": "code",
   "execution_count": 1,
   "id": "ed4a4074",
   "metadata": {},
   "outputs": [
    {
     "name": "stderr",
     "output_type": "stream",
     "text": [
      "/Users/areebnadeem/miniforge3/envs/face/lib/python3.10/site-packages/scipy/__init__.py:146: UserWarning: A NumPy version >=1.16.5 and <1.23.0 is required for this version of SciPy (detected version 1.23.1\n",
      "  warnings.warn(f\"A NumPy version >={np_minversion} and <{np_maxversion}\"\n"
     ]
    }
   ],
   "source": [
    "import math\n",
    "import pandas_datareader as web\n",
    "import pandas as pd\n",
    "import numpy as np\n",
    "from sklearn.preprocessing import MinMaxScaler\n",
    "from keras.models import Sequential\n",
    "from keras.layers import Dense, LSTM\n",
    "import matplotlib.pyplot as plt\n",
    "plt.style.use('fivethirtyeight')\n",
    "\n"
   ]
  },
  {
   "cell_type": "code",
   "execution_count": 2,
   "id": "5b928598",
   "metadata": {},
   "outputs": [
    {
     "data": {
      "text/html": [
       "<div>\n",
       "<style scoped>\n",
       "    .dataframe tbody tr th:only-of-type {\n",
       "        vertical-align: middle;\n",
       "    }\n",
       "\n",
       "    .dataframe tbody tr th {\n",
       "        vertical-align: top;\n",
       "    }\n",
       "\n",
       "    .dataframe thead th {\n",
       "        text-align: right;\n",
       "    }\n",
       "</style>\n",
       "<table border=\"1\" class=\"dataframe\">\n",
       "  <thead>\n",
       "    <tr style=\"text-align: right;\">\n",
       "      <th></th>\n",
       "      <th>High</th>\n",
       "      <th>Low</th>\n",
       "      <th>Open</th>\n",
       "      <th>Close</th>\n",
       "      <th>Volume</th>\n",
       "      <th>Adj Close</th>\n",
       "    </tr>\n",
       "    <tr>\n",
       "      <th>Date</th>\n",
       "      <th></th>\n",
       "      <th></th>\n",
       "      <th></th>\n",
       "      <th></th>\n",
       "      <th></th>\n",
       "      <th></th>\n",
       "    </tr>\n",
       "  </thead>\n",
       "  <tbody>\n",
       "    <tr>\n",
       "      <th>2009-12-31</th>\n",
       "      <td>7.619643</td>\n",
       "      <td>7.520000</td>\n",
       "      <td>7.611786</td>\n",
       "      <td>7.526071</td>\n",
       "      <td>352410800.0</td>\n",
       "      <td>6.425999</td>\n",
       "    </tr>\n",
       "    <tr>\n",
       "      <th>2010-01-04</th>\n",
       "      <td>7.660714</td>\n",
       "      <td>7.585000</td>\n",
       "      <td>7.622500</td>\n",
       "      <td>7.643214</td>\n",
       "      <td>493729600.0</td>\n",
       "      <td>6.526021</td>\n",
       "    </tr>\n",
       "    <tr>\n",
       "      <th>2010-01-05</th>\n",
       "      <td>7.699643</td>\n",
       "      <td>7.616071</td>\n",
       "      <td>7.664286</td>\n",
       "      <td>7.656429</td>\n",
       "      <td>601904800.0</td>\n",
       "      <td>6.537303</td>\n",
       "    </tr>\n",
       "    <tr>\n",
       "      <th>2010-01-06</th>\n",
       "      <td>7.686786</td>\n",
       "      <td>7.526786</td>\n",
       "      <td>7.656429</td>\n",
       "      <td>7.534643</td>\n",
       "      <td>552160000.0</td>\n",
       "      <td>6.433320</td>\n",
       "    </tr>\n",
       "    <tr>\n",
       "      <th>2010-01-07</th>\n",
       "      <td>7.571429</td>\n",
       "      <td>7.466071</td>\n",
       "      <td>7.562500</td>\n",
       "      <td>7.520714</td>\n",
       "      <td>477131200.0</td>\n",
       "      <td>6.421426</td>\n",
       "    </tr>\n",
       "    <tr>\n",
       "      <th>...</th>\n",
       "      <td>...</td>\n",
       "      <td>...</td>\n",
       "      <td>...</td>\n",
       "      <td>...</td>\n",
       "      <td>...</td>\n",
       "      <td>...</td>\n",
       "    </tr>\n",
       "    <tr>\n",
       "      <th>2022-08-16</th>\n",
       "      <td>173.710007</td>\n",
       "      <td>171.660004</td>\n",
       "      <td>172.779999</td>\n",
       "      <td>173.029999</td>\n",
       "      <td>56377100.0</td>\n",
       "      <td>173.029999</td>\n",
       "    </tr>\n",
       "    <tr>\n",
       "      <th>2022-08-17</th>\n",
       "      <td>176.149994</td>\n",
       "      <td>172.570007</td>\n",
       "      <td>172.770004</td>\n",
       "      <td>174.550003</td>\n",
       "      <td>79542000.0</td>\n",
       "      <td>174.550003</td>\n",
       "    </tr>\n",
       "    <tr>\n",
       "      <th>2022-08-18</th>\n",
       "      <td>174.899994</td>\n",
       "      <td>173.119995</td>\n",
       "      <td>173.750000</td>\n",
       "      <td>174.149994</td>\n",
       "      <td>62290100.0</td>\n",
       "      <td>174.149994</td>\n",
       "    </tr>\n",
       "    <tr>\n",
       "      <th>2022-08-19</th>\n",
       "      <td>173.740005</td>\n",
       "      <td>171.309998</td>\n",
       "      <td>173.029999</td>\n",
       "      <td>171.520004</td>\n",
       "      <td>70211500.0</td>\n",
       "      <td>171.520004</td>\n",
       "    </tr>\n",
       "    <tr>\n",
       "      <th>2022-08-22</th>\n",
       "      <td>169.860001</td>\n",
       "      <td>167.529999</td>\n",
       "      <td>169.690002</td>\n",
       "      <td>167.562103</td>\n",
       "      <td>43598450.0</td>\n",
       "      <td>167.562103</td>\n",
       "    </tr>\n",
       "  </tbody>\n",
       "</table>\n",
       "<p>3182 rows × 6 columns</p>\n",
       "</div>"
      ],
      "text/plain": [
       "                  High         Low        Open       Close       Volume  \\\n",
       "Date                                                                      \n",
       "2009-12-31    7.619643    7.520000    7.611786    7.526071  352410800.0   \n",
       "2010-01-04    7.660714    7.585000    7.622500    7.643214  493729600.0   \n",
       "2010-01-05    7.699643    7.616071    7.664286    7.656429  601904800.0   \n",
       "2010-01-06    7.686786    7.526786    7.656429    7.534643  552160000.0   \n",
       "2010-01-07    7.571429    7.466071    7.562500    7.520714  477131200.0   \n",
       "...                ...         ...         ...         ...          ...   \n",
       "2022-08-16  173.710007  171.660004  172.779999  173.029999   56377100.0   \n",
       "2022-08-17  176.149994  172.570007  172.770004  174.550003   79542000.0   \n",
       "2022-08-18  174.899994  173.119995  173.750000  174.149994   62290100.0   \n",
       "2022-08-19  173.740005  171.309998  173.029999  171.520004   70211500.0   \n",
       "2022-08-22  169.860001  167.529999  169.690002  167.562103   43598450.0   \n",
       "\n",
       "             Adj Close  \n",
       "Date                    \n",
       "2009-12-31    6.425999  \n",
       "2010-01-04    6.526021  \n",
       "2010-01-05    6.537303  \n",
       "2010-01-06    6.433320  \n",
       "2010-01-07    6.421426  \n",
       "...                ...  \n",
       "2022-08-16  173.029999  \n",
       "2022-08-17  174.550003  \n",
       "2022-08-18  174.149994  \n",
       "2022-08-19  171.520004  \n",
       "2022-08-22  167.562103  \n",
       "\n",
       "[3182 rows x 6 columns]"
      ]
     },
     "execution_count": 2,
     "metadata": {},
     "output_type": "execute_result"
    }
   ],
   "source": [
    "df = web.DataReader('AAPL', data_source = 'yahoo', start = '2010-01-01')\n",
    "df\n",
    "# The closing price is the raw price, which is just the cash value of the last transacted price before the \n",
    "# market closes. The adjusted closing price factors in anything that might affect the stock price after the\n",
    "# market closes."
   ]
  },
  {
   "cell_type": "code",
   "execution_count": null,
   "id": "377c2261",
   "metadata": {},
   "outputs": [],
   "source": []
  },
  {
   "cell_type": "code",
   "execution_count": 3,
   "id": "297dc71c",
   "metadata": {},
   "outputs": [
    {
     "data": {
      "text/plain": [
       "Date\n",
       "2009-12-31      7.526071\n",
       "2010-01-04      7.643214\n",
       "2010-01-05      7.656429\n",
       "2010-01-06      7.534643\n",
       "2010-01-07      7.520714\n",
       "                 ...    \n",
       "2022-08-16    173.029999\n",
       "2022-08-17    174.550003\n",
       "2022-08-18    174.149994\n",
       "2022-08-19    171.520004\n",
       "2022-08-22    167.562103\n",
       "Name: Close, Length: 3182, dtype: float64"
      ]
     },
     "execution_count": 3,
     "metadata": {},
     "output_type": "execute_result"
    }
   ],
   "source": [
    "df['Close']"
   ]
  },
  {
   "cell_type": "code",
   "execution_count": 4,
   "id": "d178edc8",
   "metadata": {},
   "outputs": [
    {
     "data": {
      "text/plain": [
       "Text(0, 0.5, 'Close Price USD $')"
      ]
     },
     "execution_count": 4,
     "metadata": {},
     "output_type": "execute_result"
    },
    {
     "data": {
      "image/png": "[encoded data removed]",
      "text/plain": [
       "<Figure size 1152x576 with 1 Axes>"
      ]
     },
     "metadata": {},
     "output_type": "display_data"
    }
   ],
   "source": [
    "plt.figure(figsize=(16,8))\n",
    "plt.title('Close Price History')\n",
    "plt.plot(df['Close'])\n",
    "plt.xlabel('Date', fontsize=18)\n",
    "plt.ylabel('Close Price USD $', fontsize=18)"
   ]
  },
  {
   "cell_type": "code",
   "execution_count": 5,
   "id": "1673658c",
   "metadata": {},
   "outputs": [
    {
     "data": {
      "text/plain": [
       "array([[  7.52607107],\n",
       "       [  7.64321423],\n",
       "       [  7.65642881],\n",
       "       ...,\n",
       "       [174.1499939 ],\n",
       "       [171.52000427],\n",
       "       [167.56210327]])"
      ]
     },
     "execution_count": 5,
     "metadata": {},
     "output_type": "execute_result"
    }
   ],
   "source": [
    "data = df.filter(['Close'])\n",
    "dataset = data.values # convert to numpy array\n",
    "training_data_len = math.ceil(len(dataset) * 0.8)\n",
    "training_data_len\n",
    "dataset"
   ]
  },
  {
   "cell_type": "code",
   "execution_count": 6,
   "id": "a70ffe77",
   "metadata": {},
   "outputs": [
    {
     "data": {
      "text/plain": [
       "array([[0.00380895],\n",
       "       [0.00447776],\n",
       "       [0.00455321],\n",
       "       ...,\n",
       "       [0.95512445],\n",
       "       [0.9401089 ],\n",
       "       [0.91751183]])"
      ]
     },
     "execution_count": 6,
     "metadata": {},
     "output_type": "execute_result"
    }
   ],
   "source": [
    "# Scale the data\n",
    "\n",
    "# Feature scaling is a method used to normalize the range of independent variables or features \n",
    "# of data. In data processing, it is also known as data normalization and is generally performed during the data \n",
    "# preprocessing step.\n",
    "# Scaling explanation: https://towardsdatascience.com/all-about-feature-scaling-bcc0ad75cb35\n",
    "scaler = MinMaxScaler(feature_range=(0,1))\n",
    "scaled_data = scaler.fit_transform(dataset)\n",
    "scaled_data"
   ]
  },
  {
   "cell_type": "code",
   "execution_count": 7,
   "id": "a6848ac9",
   "metadata": {},
   "outputs": [],
   "source": [
    "# Create the training data set\n",
    "# Create the scaled training data set\n",
    "train_data = scaled_data[0:training_data_len, :]\n",
    "# Split the data into x_train and y_train data sets\n",
    "x_train = [] # dependent variables\n",
    "y_train = [] # independent variables\n",
    "\n",
    "for i in range(60, len(train_data)):\n",
    "    x_train.append(train_data[i-60:i, 0])\n",
    "    y_train.append(train_data[i,0])\n",
    "    "
   ]
  },
  {
   "cell_type": "code",
   "execution_count": 8,
   "id": "8e95a499",
   "metadata": {},
   "outputs": [
    {
     "data": {
      "text/plain": [
       "60"
      ]
     },
     "execution_count": 8,
     "metadata": {},
     "output_type": "execute_result"
    }
   ],
   "source": [
    "len(x_train[0])"
   ]
  },
  {
   "cell_type": "code",
   "execution_count": 9,
   "id": "707ea559",
   "metadata": {},
   "outputs": [],
   "source": [
    "# Convert x_train and y_train to numpy arrays\n",
    "x_train, y_train = np.array(x_train), np.array(y_train)\n"
   ]
  },
  {
   "cell_type": "code",
   "execution_count": 10,
   "id": "8896414d",
   "metadata": {},
   "outputs": [
    {
     "data": {
      "text/plain": [
       "(2486, 60)"
      ]
     },
     "execution_count": 10,
     "metadata": {},
     "output_type": "execute_result"
    }
   ],
   "source": [
    "# Reshape the data because LSTM network expects the input to be \n",
    "# in 3D format (num of samples, num of timestamps, num of features)\n",
    "x_train.shape # current shape\n"
   ]
  },
  {
   "cell_type": "code",
   "execution_count": 11,
   "id": "6c7368a0",
   "metadata": {},
   "outputs": [
    {
     "data": {
      "text/plain": [
       "(2486, 60, 1)"
      ]
     },
     "execution_count": 11,
     "metadata": {},
     "output_type": "execute_result"
    }
   ],
   "source": [
    "x_train = np.reshape(x_train, (x_train.shape[0], x_train.shape[1], 1))\n",
    "x_train.shape"
   ]
  },
  {
   "cell_type": "code",
   "execution_count": 12,
   "id": "e88ef671",
   "metadata": {},
   "outputs": [],
   "source": [
    "# Build the LSTM model\n",
    "model = Sequential()\n",
    "model.add(LSTM(50, return_sequences=True, input_shape = (x_train.shape[1], 1)))\n",
    "model.add(LSTM(50, return_sequences=False)) # no more LSTM layers\n",
    "model.add(Dense(25))\n",
    "model.add(Dense(1))"
   ]
  },
  {
   "cell_type": "code",
   "execution_count": 13,
   "id": "04d80ef6",
   "metadata": {},
   "outputs": [],
   "source": [
    "# optimizer is used to improve loss function\n",
    "# loss function is used to measure how well model did on training \n",
    "model.compile(optimizer='adam', loss='mean_squared_error')\n"
   ]
  },
  {
   "cell_type": "code",
   "execution_count": 14,
   "id": "7f480afa",
   "metadata": {},
   "outputs": [
    {
     "name": "stderr",
     "output_type": "stream",
     "text": [
      "2022-08-23 02:52:56.664868: W tensorflow/core/platform/profile_utils/cpu_utils.cc:128] Failed to get CPU frequency: 0 Hz\n"
     ]
    },
    {
     "name": "stdout",
     "output_type": "stream",
     "text": [
      "2486/2486 [==============================] - 24s 9ms/step - loss: 1.9055e-04\n"
     ]
    },
    {
     "data": {
      "text/plain": [
       "<keras.callbacks.History at 0x17997d4b0>"
      ]
     },
     "execution_count": 14,
     "metadata": {},
     "output_type": "execute_result"
    }
   ],
   "source": [
    "# Train the model\n",
    "model.fit(x_train, y_train, batch_size=1, epochs=1)"
   ]
  },
  {
   "cell_type": "code",
   "execution_count": 15,
   "id": "b2e9b763",
   "metadata": {},
   "outputs": [],
   "source": [
    "# Create testing data set\n",
    "# Create a new array containing scaled values from index 2425 to 2485\n",
    "test_data = scaled_data[training_data_len - 60: , :]\n",
    "# Create the data sets x_test and y_test\n",
    "x_test = []\n",
    "y_test = dataset[training_data_len: , :]\n",
    "\n",
    "for i in range(60, len(test_data)):\n",
    "    x_test.append(test_data[i-60:i, 0])"
   ]
  },
  {
   "cell_type": "code",
   "execution_count": 16,
   "id": "ced51220",
   "metadata": {},
   "outputs": [],
   "source": [
    "# Convert data to numpy array\n",
    "x_test = np.array(x_test)\n"
   ]
  },
  {
   "cell_type": "code",
   "execution_count": 17,
   "id": "79923465",
   "metadata": {},
   "outputs": [
    {
     "data": {
      "text/plain": [
       "array([[[0.34016963],\n",
       "        [0.34208226],\n",
       "        [0.34092612],\n",
       "        ...,\n",
       "        [0.41980086],\n",
       "        [0.41703182],\n",
       "        [0.42786536]],\n",
       "\n",
       "       [[0.34208226],\n",
       "        [0.34092612],\n",
       "        [0.33650136],\n",
       "        ...,\n",
       "        [0.41703182],\n",
       "        [0.42786536],\n",
       "        [0.42453964]],\n",
       "\n",
       "       [[0.34092612],\n",
       "        [0.33650136],\n",
       "        [0.33481711],\n",
       "        ...,\n",
       "        [0.42786536],\n",
       "        [0.42453964],\n",
       "        [0.42465385]],\n",
       "\n",
       "       ...,\n",
       "\n",
       "       [[0.77790604],\n",
       "        [0.76220531],\n",
       "        [0.76311882],\n",
       "        ...,\n",
       "        [0.94964351],\n",
       "        [0.94873   ],\n",
       "        [0.95740824]],\n",
       "\n",
       "       [[0.76220531],\n",
       "        [0.76311882],\n",
       "        [0.7817313 ],\n",
       "        ...,\n",
       "        [0.94873   ],\n",
       "        [0.95740824],\n",
       "        [0.95512445]],\n",
       "\n",
       "       [[0.76311882],\n",
       "        [0.7817313 ],\n",
       "        [0.81518813],\n",
       "        ...,\n",
       "        [0.95740824],\n",
       "        [0.95512445],\n",
       "        [0.9401089 ]]])"
      ]
     },
     "execution_count": 17,
     "metadata": {},
     "output_type": "execute_result"
    }
   ],
   "source": [
    "# Reshape the data\n",
    "x_test = np.reshape(x_test, (x_test.shape[0], x_test.shape[1], 1))\n",
    "x_test"
   ]
  },
  {
   "cell_type": "code",
   "execution_count": 18,
   "id": "a05efc8f",
   "metadata": {},
   "outputs": [],
   "source": [
    "# Get the models predicted price values\n",
    "predictions = model.predict(x_test)\n",
    "predictions = scaler.inverse_transform(predictions) # unscale values"
   ]
  },
  {
   "cell_type": "code",
   "execution_count": 19,
   "id": "74b86bc9",
   "metadata": {},
   "outputs": [
    {
     "data": {
      "text/plain": [
       "4.8905793633757195"
      ]
     },
     "execution_count": 19,
     "metadata": {},
     "output_type": "execute_result"
    }
   ],
   "source": [
    "# Get the root mean squared error (RMSE) to check accuracy, lower values indicate better fit\n",
    "rmse=np.sqrt(np.mean(((predictions- y_test)**2)))\n",
    "rmse"
   ]
  },
  {
   "cell_type": "code",
   "execution_count": 20,
   "id": "91b14814",
   "metadata": {},
   "outputs": [
    {
     "name": "stderr",
     "output_type": "stream",
     "text": [
      "/var/folders/1h/nkc0_l9178z2hxq5xp_4jd840000gn/T/ipykernel_8157/2680842922.py:4: SettingWithCopyWarning: \n",
      "A value is trying to be set on a copy of a slice from a DataFrame.\n",
      "Try using .loc[row_indexer,col_indexer] = value instead\n",
      "\n",
      "See the caveats in the documentation: https://pandas.pydata.org/pandas-docs/stable/user_guide/indexing.html#returning-a-view-versus-a-copy\n",
      "  valid['Predictions'] = predictions\n"
     ]
    },
    {
     "data": {
      "image/png": "[encoded data removed]",
      "text/plain": [
       "<Figure size 1152x576 with 1 Axes>"
      ]
     },
     "metadata": {},
     "output_type": "display_data"
    }
   ],
   "source": [
    "# Plot the data\n",
    "train = data[:training_data_len]\n",
    "valid = data[training_data_len:]\n",
    "valid['Predictions'] = predictions\n",
    "\n",
    "# visualize the data\n",
    "plt.figure(figsize=(16,8))\n",
    "plt.title('Stock Price Prediction Model')\n",
    "plt.xlabel('Date', fontsize=18)\n",
    "plt.ylabel('Close Price USD $', fontsize=18)\n",
    "plt.plot(train['Close'])\n",
    "plt.plot(valid[['Close', 'Predictions']])\n",
    "plt.legend(['Training Data Set', 'Actual Price', 'Predicted Price'], loc = 'lower right')\n",
    "plt.show()"
   ]
  },
  {
   "cell_type": "code",
   "execution_count": 21,
   "id": "c6b0d490",
   "metadata": {},
   "outputs": [
    {
     "data": {
      "text/html": [
       "<div>\n",
       "<style scoped>\n",
       "    .dataframe tbody tr th:only-of-type {\n",
       "        vertical-align: middle;\n",
       "    }\n",
       "\n",
       "    .dataframe tbody tr th {\n",
       "        vertical-align: top;\n",
       "    }\n",
       "\n",
       "    .dataframe thead th {\n",
       "        text-align: right;\n",
       "    }\n",
       "</style>\n",
       "<table border=\"1\" class=\"dataframe\">\n",
       "  <thead>\n",
       "    <tr style=\"text-align: right;\">\n",
       "      <th></th>\n",
       "      <th>Close</th>\n",
       "      <th>Predictions</th>\n",
       "    </tr>\n",
       "    <tr>\n",
       "      <th>Date</th>\n",
       "      <th></th>\n",
       "      <th></th>\n",
       "    </tr>\n",
       "  </thead>\n",
       "  <tbody>\n",
       "    <tr>\n",
       "      <th>2020-02-13</th>\n",
       "      <td>81.217499</td>\n",
       "      <td>80.830391</td>\n",
       "    </tr>\n",
       "    <tr>\n",
       "      <th>2020-02-14</th>\n",
       "      <td>81.237503</td>\n",
       "      <td>81.082352</td>\n",
       "    </tr>\n",
       "    <tr>\n",
       "      <th>2020-02-18</th>\n",
       "      <td>79.750000</td>\n",
       "      <td>81.307777</td>\n",
       "    </tr>\n",
       "    <tr>\n",
       "      <th>2020-02-19</th>\n",
       "      <td>80.904999</td>\n",
       "      <td>81.337921</td>\n",
       "    </tr>\n",
       "    <tr>\n",
       "      <th>2020-02-20</th>\n",
       "      <td>80.074997</td>\n",
       "      <td>81.383644</td>\n",
       "    </tr>\n",
       "    <tr>\n",
       "      <th>...</th>\n",
       "      <td>...</td>\n",
       "      <td>...</td>\n",
       "    </tr>\n",
       "    <tr>\n",
       "      <th>2022-08-16</th>\n",
       "      <td>173.029999</td>\n",
       "      <td>171.769333</td>\n",
       "    </tr>\n",
       "    <tr>\n",
       "      <th>2022-08-17</th>\n",
       "      <td>174.550003</td>\n",
       "      <td>173.003006</td>\n",
       "    </tr>\n",
       "    <tr>\n",
       "      <th>2022-08-18</th>\n",
       "      <td>174.149994</td>\n",
       "      <td>174.229538</td>\n",
       "    </tr>\n",
       "    <tr>\n",
       "      <th>2022-08-19</th>\n",
       "      <td>171.520004</td>\n",
       "      <td>175.265472</td>\n",
       "    </tr>\n",
       "    <tr>\n",
       "      <th>2022-08-22</th>\n",
       "      <td>167.562103</td>\n",
       "      <td>175.792511</td>\n",
       "    </tr>\n",
       "  </tbody>\n",
       "</table>\n",
       "<p>636 rows × 2 columns</p>\n",
       "</div>"
      ],
      "text/plain": [
       "                 Close  Predictions\n",
       "Date                               \n",
       "2020-02-13   81.217499    80.830391\n",
       "2020-02-14   81.237503    81.082352\n",
       "2020-02-18   79.750000    81.307777\n",
       "2020-02-19   80.904999    81.337921\n",
       "2020-02-20   80.074997    81.383644\n",
       "...                ...          ...\n",
       "2022-08-16  173.029999   171.769333\n",
       "2022-08-17  174.550003   173.003006\n",
       "2022-08-18  174.149994   174.229538\n",
       "2022-08-19  171.520004   175.265472\n",
       "2022-08-22  167.562103   175.792511\n",
       "\n",
       "[636 rows x 2 columns]"
      ]
     },
     "execution_count": 21,
     "metadata": {},
     "output_type": "execute_result"
    }
   ],
   "source": [
    "# Show the valid and predicted prices\n",
    "valid"
   ]
  },
  {
   "cell_type": "code",
   "execution_count": 22,
   "id": "61111391",
   "metadata": {},
   "outputs": [
    {
     "name": "stdout",
     "output_type": "stream",
     "text": [
      "[[68.49165]]\n"
     ]
    }
   ],
   "source": [
    "# Get the quote\n",
    "apple_quote = web.DataReader('AAPL', data_source = 'yahoo', start = '2012-01-04', end ='2019-12-17')\n",
    "\n",
    "new_df = apple_quote.filter(['Close'])\n",
    "\n",
    "last_60_days = new_df[-60:].values\n",
    "\n",
    "last_60_days_scaled = scaler.transform(last_60_days)\n",
    "\n",
    "X_test = []\n",
    "\n",
    "X_test.append(last_60_days_scaled)\n",
    "\n",
    "X_test = np.array(X_test)\n",
    "\n",
    "X_test = np.reshape(X_test, (X_test.shape[0], X_test.shape[1], 1))\n",
    "\n",
    "pred_price = model.predict(X_test)\n",
    "\n",
    "pred_price = scaler.inverse_transform(pred_price)\n",
    "print(pred_price)\n"
   ]
  },
  {
   "cell_type": "code",
   "execution_count": 23,
   "id": "055f61ce",
   "metadata": {},
   "outputs": [
    {
     "name": "stdout",
     "output_type": "stream",
     "text": [
      "Date\n",
      "2019-12-17    70.102501\n",
      "2019-12-18    69.934998\n",
      "Name: Close, dtype: float64\n"
     ]
    }
   ],
   "source": [
    "apple_quote2 = web.DataReader('AAPL', data_source = 'yahoo', start = '2019-12-18', end ='2019-12-18')\n",
    "print(apple_quote2['Close'])"
   ]
  },
  {
   "cell_type": "code",
   "execution_count": null,
   "id": "63286dab",
   "metadata": {},
   "outputs": [],
   "source": []
  }
 ],
 "metadata": {
  "kernelspec": {
   "display_name": "Python 3 (ipykernel)",
   "language": "python",
   "name": "python3"
  },
  "language_info": {
   "codemirror_mode": {
    "name": "ipython",
    "version": 3
   },
   "file_extension": ".py",
   "mimetype": "text/x-python",
   "name": "python",
   "nbconvert_exporter": "python",
   "pygments_lexer": "ipython3",
   "version": "3.10.2"
  }
 },
 "nbformat": 4,
 "nbformat_minor": 5
}
